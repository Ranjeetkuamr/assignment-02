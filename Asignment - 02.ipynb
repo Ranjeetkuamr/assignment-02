{
 "cells": [
  {
   "cell_type": "markdown",
   "id": "8165180c-38c3-431e-83d3-4c794ba339b3",
   "metadata": {},
   "source": [
    "# Q1. How do you comment code in Python? What are the different types of comments?"
   ]
  },
  {
   "cell_type": "code",
   "execution_count": 2,
   "id": "f4c37ad5-b892-459b-9d3f-1de0d3cf1080",
   "metadata": {},
   "outputs": [],
   "source": [
    " 1. Single-line comments: Single-line comments start with the hash character (#) and continue until the end of the line. They are used to comment on a single line of code.\n",
    "   \n",
    "# example:-  \n",
    "# this is a single comment\n"
   ]
  },
  {
   "cell_type": "code",
   "execution_count": null,
   "id": "21ee3f56-d08f-41d0-8970-6cb9691180b3",
   "metadata": {},
   "outputs": [],
   "source": [
    " 2. Multi-line comments: Multi-line comments, also known as block comments, are used to comment on multiple lines of code\n",
    "\n",
    "''' example:- '''\n",
    "\n",
    "\"\"\"\n",
    "This is a multi-line comment.\n",
    "It spans across multiple lines.\n",
    "It can be used for detailed explanations or documentation.\n",
    "\"\"\"\n"
   ]
  },
  {
   "cell_type": "markdown",
   "id": "aa9dd594-c8b1-42af-bf5b-ed2a5e415e91",
   "metadata": {},
   "source": [
    "# Q2. What are variables in Python? How do you declare and assign values to variables?"
   ]
  },
  {
   "cell_type": "code",
   "execution_count": null,
   "id": "3f3a72c4-1100-4a2a-9a9c-937368d79e67",
   "metadata": {},
   "outputs": [],
   "source": [
    " variables:- Variables are containers for storing data values."
   ]
  },
  {
   "cell_type": "code",
   "execution_count": null,
   "id": "f7d29f5a-6230-48fb-aa7f-566015c3642c",
   "metadata": {},
   "outputs": [],
   "source": [
    "# Variable declaration and assignment\n",
    "age = 25\n",
    "name = \"John Doe\"\n"
   ]
  },
  {
   "cell_type": "markdown",
   "id": "b2124b2a-32f5-4690-8867-68e978fda4a9",
   "metadata": {},
   "source": [
    "# Q3. How do you convert one data type to another in Python?"
   ]
  },
  {
   "cell_type": "code",
   "execution_count": 10,
   "id": "60929c6d-f209-4c50-ac6e-1b80a34a9a6d",
   "metadata": {},
   "outputs": [],
   "source": [
    "s =\"1000\"\n",
    "c = int(s)\n"
   ]
  },
  {
   "cell_type": "code",
   "execution_count": 11,
   "id": "532ab155-e97a-456f-8b3e-64ba1bbeb431",
   "metadata": {},
   "outputs": [
    {
     "data": {
      "text/plain": [
       "int"
      ]
     },
     "execution_count": 11,
     "metadata": {},
     "output_type": "execute_result"
    }
   ],
   "source": [
    "type(c)"
   ]
  },
  {
   "cell_type": "markdown",
   "id": "c1737f1d-b97c-4d29-82ad-8d0a2a973dd4",
   "metadata": {},
   "source": [
    "# Q4. How do you write and execute a Python script from the command line?"
   ]
  },
  {
   "cell_type": "code",
   "execution_count": null,
   "id": "72182d63-34ca-4094-ac40-341bbc82afe4",
   "metadata": {},
   "outputs": [],
   "source": [
    "1. Open a text editor and create a new file. Write your Python code in the file and save it with a .py extension. For example, you can save the file as script.py."
   ]
  },
  {
   "cell_type": "code",
   "execution_count": null,
   "id": "2f20fd1f-48f4-4600-97a7-66feaad66ef1",
   "metadata": {},
   "outputs": [],
   "source": [
    "2. Navigate to the directory where the Python script is located using the cd command. "
   ]
  },
  {
   "cell_type": "markdown",
   "id": "53410f31-2984-40c1-a635-30fc38f41140",
   "metadata": {},
   "source": [
    "# Q5. Given a list my_list = [1, 2, 3, 4, 5], write the code to slice the list and obtain the sub-list [2, 3]."
   ]
  },
  {
   "cell_type": "code",
   "execution_count": 12,
   "id": "469c125a-48ec-4447-95ea-a926bc3b2161",
   "metadata": {},
   "outputs": [
    {
     "name": "stdout",
     "output_type": "stream",
     "text": [
      "[2, 3]\n"
     ]
    }
   ],
   "source": [
    "my_list = [1, 2, 3, 4, 5]\n",
    "sub_list = my_list[1:3]\n",
    "print(sub_list)"
   ]
  },
  {
   "cell_type": "markdown",
   "id": "a6c2fa0f-112d-42ef-810e-e5bf2f3c01ff",
   "metadata": {},
   "source": [
    "# Q6. What is a complex number in mathematics, and how is it represented in Python?"
   ]
  },
  {
   "cell_type": "code",
   "execution_count": null,
   "id": "9c0fd40b-e871-42b1-bbea-54227ee5db65",
   "metadata": {},
   "outputs": [],
   "source": [
    "z = 3 + 5j"
   ]
  },
  {
   "cell_type": "markdown",
   "id": "68b4e3bc-dea6-4883-a836-0d56f24b7a80",
   "metadata": {},
   "source": [
    "# Q7. What is the correct way to declare a variable named age and assign the value 25 to it?"
   ]
  },
  {
   "cell_type": "code",
   "execution_count": 13,
   "id": "84a4fa2c-4e72-4531-9378-8e5b25d1e1ea",
   "metadata": {},
   "outputs": [
    {
     "name": "stdout",
     "output_type": "stream",
     "text": [
      "25\n"
     ]
    }
   ],
   "source": [
    "age = 25\n",
    "print(age)"
   ]
  },
  {
   "cell_type": "markdown",
   "id": "63fd86e1-6aaa-42a8-9b40-9196bdef3e1d",
   "metadata": {},
   "source": [
    "# Q8. Declare a variable named price and assign the value 9.99 to it. What data type does this variable belong to?"
   ]
  },
  {
   "cell_type": "code",
   "execution_count": 14,
   "id": "02a3e113-f587-4428-9417-60d1a262ba20",
   "metadata": {},
   "outputs": [],
   "source": [
    " ans:-When you declare a variable named \"price\" and assign the value 9.99 to it in Python, the variable belongs to the data type called \"float\"."
   ]
  },
  {
   "cell_type": "markdown",
   "id": "0a851376-507d-4c42-8064-1893149cc639",
   "metadata": {},
   "source": [
    "# Q9. Create a variable named name and assign your full name to it as a string. How would you print the value of this variable?"
   ]
  },
  {
   "cell_type": "code",
   "execution_count": 16,
   "id": "fbb109f9-0e95-489c-abb7-85870f9c6aa6",
   "metadata": {},
   "outputs": [],
   "source": [
    "name = \"Ranjeet kumar\""
   ]
  },
  {
   "cell_type": "code",
   "execution_count": 17,
   "id": "9d80da9c-a833-4b56-b40e-788d41707ff3",
   "metadata": {},
   "outputs": [
    {
     "name": "stdout",
     "output_type": "stream",
     "text": [
      "Ranjeet kumar\n"
     ]
    }
   ],
   "source": [
    "print(name)"
   ]
  },
  {
   "cell_type": "markdown",
   "id": "cd16566d-2b05-4e55-8e96-6f58c2a6cc68",
   "metadata": {},
   "source": [
    "# Q10. Given the string \"Hello, World!\", extract the substring \"World\"."
   ]
  },
  {
   "cell_type": "code",
   "execution_count": 18,
   "id": "8af2f1de-99c4-4687-8b50-f868c709a08b",
   "metadata": {},
   "outputs": [
    {
     "name": "stdout",
     "output_type": "stream",
     "text": [
      "World\n"
     ]
    }
   ],
   "source": [
    "string = \"Hello, World!\"\n",
    "substring = string[7:12]\n",
    "print(substring)\n"
   ]
  },
  {
   "cell_type": "markdown",
   "id": "f3bff772-ab0c-403b-b699-0a1086c47eb6",
   "metadata": {},
   "source": [
    "# Q11. Create a variable named \"is_student\" and assign it a boolean value indicating whether you are currently a student or not."
   ]
  },
  {
   "cell_type": "code",
   "execution_count": 19,
   "id": "d3e6b312-4586-40d4-8a2d-4050540e51fc",
   "metadata": {},
   "outputs": [],
   "source": [
    "is_student = True"
   ]
  },
  {
   "cell_type": "code",
   "execution_count": null,
   "id": "d7d4ccc2-1b84-4543-baad-23ad0ce5137b",
   "metadata": {},
   "outputs": [],
   "source": [
    "is_student = False"
   ]
  }
 ],
 "metadata": {
  "kernelspec": {
   "display_name": "Python 3 (ipykernel)",
   "language": "python",
   "name": "python3"
  },
  "language_info": {
   "codemirror_mode": {
    "name": "ipython",
    "version": 3
   },
   "file_extension": ".py",
   "mimetype": "text/x-python",
   "name": "python",
   "nbconvert_exporter": "python",
   "pygments_lexer": "ipython3",
   "version": "3.10.6"
  }
 },
 "nbformat": 4,
 "nbformat_minor": 5
}
